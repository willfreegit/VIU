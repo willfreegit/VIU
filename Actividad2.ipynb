{
 "cells": [
  {
   "cell_type": "markdown",
   "id": "6a5d62b8-ef32-4147-b20c-a816a78becc7",
   "metadata": {},
   "source": [
    "# Actividad 2"
   ]
  },
  {
   "cell_type": "markdown",
   "id": "32f60f38-3970-4131-bc96-31005938f734",
   "metadata": {},
   "source": [
    "#### Integrantes: **Alex Breedy, Santiago Albuja, Wilson Monge**"
   ]
  },
  {
   "cell_type": "markdown",
   "id": "ef685f19-520c-42c5-853f-d334f1fdf96c",
   "metadata": {},
   "source": [
    "### ÍNDICE"
   ]
  },
  {
   "cell_type": "markdown",
   "id": "2bc427bb-4551-405d-bb92-fc9c0c584e2d",
   "metadata": {},
   "source": [
    "1. Introducción\n",
    "2. Obtención de los datos\n",
    "3. Diseño de la base de datos\n",
    "4. Despliegue\n",
    "5. Consultas"
   ]
  },
  {
   "cell_type": "markdown",
   "id": "63ac379a-27da-4ca1-be4f-c35d2444553d",
   "metadata": {
    "tags": []
   },
   "source": [
    "## 1. Introducción"
   ]
  },
  {
   "cell_type": "markdown",
   "id": "358ee23d-56d6-4dcf-b0f8-00b327a88c85",
   "metadata": {
    "tags": []
   },
   "source": [
    "*Descripción de la propuesta:* Se quiere desarrollar un portal de noticias web que presente artículos con las últimas noticias nacionales e internacionales. Las noticias incluyen distintas temáticas en las que se incluyen: variedades, política, deportes, etc. \n",
    "Además la aplicación deberá permitir la creación de cuentas para los usuarios y guardar las preferencias de cada uno de ellos, de igual manera, el número de visualizaciones de cada noticia. Lo que permitirá obtener información relevante con la que se puedan realizar recomendaciones personalizadas de noticias a cada usuario y así mejorar la experiencia\n"
   ]
  },
  {
   "cell_type": "markdown",
   "id": "47a3f2bd-71bf-4d7f-a2f1-422bffdfc4fb",
   "metadata": {},
   "source": [
    "## 2. Obtención de los datos"
   ]
  },
  {
   "cell_type": "markdown",
   "id": "16b1f950-7b05-4075-b300-1680b2ca1e81",
   "metadata": {},
   "source": [
    "- ¿Cómo se obtuvieron los datos?\n",
    "\n",
    "Los datos se obtuvieron de un repositorio de datos abierto, en este caso elegimos https://newsdata.io/. Se decidió por esta página pues nos proporcionaba varios repositorios de noticias gratis, los que encajan perfectamente a las necesidades del requerimiento.\n",
    "\n",
    "- Definición del dataset\n",
    "\n",
    "Dataset abierto:\n",
    "\n",
    "| campo | descripción | tipo de dato |\n",
    "| --- | --- | --- |\n",
    "| title | título del artículo | cadena de caracteres |\n",
    "| link | link a la página de la noticia | cadena de caracteres |\n",
    "| keywords | palabras clave de la noticia | colección de cadena de caracteres |\n",
    "| creator | autores de la noticia | colección de cadena de caracteres |\n",
    "| video_url | link al video (si lo hubiese) | cadena de caracteres |\n",
    "| description | descripción corta de la noticia | cadena de caracteres |\n",
    "| content | contenido de la noticia | cadena de caracteres |\n",
    "| pubDate | Fecha de publicación | timestamp |\n",
    "| image_url | link a la imágen (si la hubiese) | cadena de caracteres |\n",
    "| source_id | fuente original de la noticia | cadena de caracteres |\n",
    "\n",
    "Datasets sintéticos:\n",
    "\n",
    "| campo | descripción | tipo de dato |\n",
    "| --- | --- | --- |\n",
    "| id_usuario | identificador del usuario | cadena de caracteres |\n",
    "| nombre | nombre del usuario | cadena de caracteres |\n",
    "| apellido | apellido del usuario | colección de cadena de caracteres |\n",
    "| correo | correo electrónico del usuario | colección de cadena de caracteres |\n",
    "| usuario | nombre del usuario | cadena de caracteres |\n",
    "| password | contraseña del usuario | cadena de caracteres |\n",
    "\n",
    "| campo | descripción | tipo de dato |\n",
    "| --- | --- | --- |\n",
    "| id_noticia | identificador de la noticia | cadena de caracteres |\n",
    "| fecha_consulta | fecha en la que se abrió el artículo | timestamp |\n",
    "| contador | número de veces que se revisó el artículo | numérico |"
   ]
  },
  {
   "cell_type": "code",
   "execution_count": null,
   "id": "e6b8dc40-cf0e-45cb-b090-9fa22a0fe0ca",
   "metadata": {},
   "outputs": [],
   "source": []
  },
  {
   "cell_type": "markdown",
   "id": "d55949b6-7e54-468a-965f-902500a4001f",
   "metadata": {},
   "source": [
    "## 2. Necesidades y requisitos del usuario"
   ]
  },
  {
   "cell_type": "markdown",
   "id": "6d506a43-8a7c-4e04-8c82-5701633877bd",
   "metadata": {},
   "source": [
    "- Personas de contacto con el cliente: \n",
    "\n",
    "Mis compañeros de grupo y yo nos entrevistamos con el editor en jefe del periódico que ha decidido actualizar el formato del diario y para ello es necesaria una base de datos completa. \n",
    "Él nos ha proporcionado los requisitos básicos para comenzar con la difusión de noticias de manera virtual.\n",
    "\n",
    "- ¿Para qué necesita la base de datos? \n",
    "\n",
    "El periodico ha venido perdiendo cada vez más suscriptores y las ventas de  las ediciones impresas se han visto afectadas considerablemente desde el auge del internet, por lo cual, esta entidad ha experimentado una disminución de patrocinadores. \n",
    "\n",
    "Una de las alternativas para poder seguir siendo rentable, conservar sus patrocinadores y ser atractivo para otros nuevos auspiciantes es actualizarse, siguiendo los mismos lineamientos de sus competidores a nivel local y nacional. \n",
    "\n",
    "Para ello requiere desarrollar una aplicación web enfocada en noticias tanto nacionales como internacionales.\n",
    "\n",
    "La aplicación deberá mostrar a los usuarios una serie de publicaciones y podcasts con las noticias más relevantes de la actualidad, para lo cual requerirá una base de datos que contenga información de artículos más relevantes y links a sitios externos.\n",
    "\n",
    "Al ser basta la cantidad de información que será accedida por cientos o miles de usuarios a la vez se necesitará utilizar un sistema gestor de base de datos para poder manejar la información digital de este medio de comunicación.\n",
    "\n",
    "- ¿Cómo guardan ahora la información? \n",
    "\n",
    "Los artículos generalmente se guardaban en archivos con varios formatos como .docx, .txt, xlsx, etc. dentro de los repositorios de ficheros del servidor de la compañía. Los que después de pasar por los editores se decidía y ordenaba cuales salían a la imprenta.\n",
    "\n",
    "- ¿Qué operaciones realiza la empresa?\n",
    "\n",
    "| Tareas | Datos necesarios |\n",
    "| --- | --- |\n",
    "| Creación de cuentas de usuarios | nombres, apellidos, correo electrónico, nombre de usuario y contraseña. |\n",
    "| Mantenimiento de cuentas de usuarios | nombres, apellidos, correo electrónico, nombre de usuario y contraseña. |\n",
    "| Consultar artículos de noticias | identificador del artículo, título,  cuerpo del artículo, link a la noticia, fuente, palabras clave, fecha de publicación, creador. |\n",
    "| Mantenimiento de artículos de noticias | identificador del artículo, título,  cuerpo del artículo, link a la noticia, fuente, palabras clave, fecha de publicación, creador. |\n",
    "| Generar resportes de visualizaciones | identificador del artículo, número de visualizaciones, identificador del usuario |\n",
    "\n",
    "\n",
    "- Tabla de requisitos\n",
    "\n",
    "| Requisitos | Datos necesarios |\n",
    "| --- | --- |\n",
    "| Consultar Información | Título,  cuerpo del artículo, link a la noticia, fuente, palabras clave, fecha de publicación, creador. |\n",
    "| Crear Información | Título,  cuerpo del artículo, link a la noticia, fuente, palabras clave, fecha de publicación, creador. |\n",
    "| Editar Información | Id del artículo, Título,  cuerpo del artículo, link a la noticia, fuente, palabras clave, fecha de publicación, creador. |\n",
    "| Eliminar Información | Id del artículo |\n",
    "\n",
    "- Limitar los requisitos requisitos\n",
    "\n",
    "| Requisitos Finales | Datos necesarios |\n",
    "| --- | --- |\n",
    "| Consultar Información | Título,  cuerpo del artículo, link a la noticia, fuente, palabras clave, fecha de publicación, creador. |\n",
    "| Crear Información | Título,  cuerpo del artículo, link a la noticia, fuente, palabras clave, fecha de publicación, creador. |\n",
    "| Editar Información | Id del artículo, Título,  cuerpo del artículo, link a la noticia, fuente, palabras clave, fecha de publicación, creador. |\n",
    "| Eliminar Información | Id del artículo |\n"
   ]
  },
  {
   "cell_type": "markdown",
   "id": "3276a03b-960f-4291-a280-64261e627d28",
   "metadata": {},
   "source": [
    "## 3. Diseño de la base de datos"
   ]
  },
  {
   "cell_type": "markdown",
   "id": "baf20779-b841-40eb-b6fd-63d752bd9f93",
   "metadata": {},
   "source": [
    "3.1 Diseño Conceptual\n",
    "\n",
    "- Paso 1: Identificación de entidades\n",
    "\n",
    "*Departamento:* son las organizaciones de menor tamaño en los que se divide la empresa\n",
    "\n",
    "*Empleado:* son las personas que trabajan para la empresa y que estan divididas dentro en uno o varios departamentos\n",
    "\n",
    "- Paso 2: Identificación de relaciones\n",
    "\n",
    "*Tiene:* relación entre departamento y empleado\n",
    "\n",
    "- Paso 3: Identificar los atributos y asociarlos a entidades y relaciones\n",
    "\n",
    "*Departamento:* id_departamento, descripción\n",
    "\n",
    "- Paso 4: Determinar los dominios de los atributos\n",
    "\n",
    "*Dominio de id*: 0 y 1\n",
    "\n",
    "- Paso 5: Determinar los identificadores\n",
    "\n",
    "*Departamento:* id_departamento\n",
    "\n",
    "- Paso 6: Modelo conceptual E/R modelado de Peter Chen (Imagen)\n"
   ]
  },
  {
   "cell_type": "markdown",
   "id": "12d8e4a7-4bf8-4034-8edb-491575e3352d",
   "metadata": {},
   "source": [
    "3.2 Diseño Lógico\n",
    "\n",
    "- Paso 1: Transformar entidades en tablas (atributos y claves primarias)\n",
    "\n",
    "Departamento (id_departamento, descripcion)\n",
    "PK:{id_departamento}\n",
    "\n",
    "- Paso 2: Transformar relaciones en tablas e integración referencial (claves ajenas)\n",
    "\n",
    "N:M\n",
    "Tiene (id_departamento, id_empleado)\n",
    "Pk:\n",
    "\n",
    "Fk: Acepta Nulos? NO, Borrado: RESTRINGIR, Modificacion: PROPAGAR\n",
    "Fk:\n",
    "\n",
    "1:1\n",
    "1:N\n",
    "         \n",
    "  Actualizar / Borrar\n",
    "    a. Restringir\n",
    "    b. Propagar\n",
    "    c. Poner por defecto\n",
    "    d. Poner en nulo\n",
    "\n",
    "  Admite nulos las foreing keys? en Actualización, Borrado\n",
    "  \n",
    "- Paso 3: Normalización\n",
    "\n",
    "- Paso 4: Desnormalización\n",
    "\n",
    "- Paso 5: Modelo lógico (.txt)\n",
    "\n",
    "cliente(id, nombre, apellido)\n",
    "pk:id\n",
    "dominio de tsi:{001,002,003}\n",
    "nota: el apellido 2 es opcional\n",
    "\n",
    "historial()\n",
    "pk\n",
    "fk"
   ]
  },
  {
   "cell_type": "markdown",
   "id": "c31bb506-fd13-434f-8934-f182273113c4",
   "metadata": {},
   "source": [
    "3.3 Diseño Físico\n",
    "\n",
    "- Paso 1: Traducción del esquema lógico\n",
    " CREATE TABLE\n",
    "\n",
    "- Paso 2: Creación de vistas\n",
    "\n",
    "- Paso 3: Esquema físico (.sql)"
   ]
  },
  {
   "cell_type": "markdown",
   "id": "ac450de7-e013-4979-b018-1f7ebadb41dd",
   "metadata": {},
   "source": [
    "## 4. Despliegue"
   ]
  },
  {
   "cell_type": "markdown",
   "id": "e914a053-805e-4dff-a901-592b9482fcb4",
   "metadata": {},
   "source": [
    "## 5. Consultas"
   ]
  },
  {
   "cell_type": "markdown",
   "id": "0958d297-0197-4cd1-a6eb-cfe25f20f861",
   "metadata": {},
   "source": [
    "## 6. Conclusiones"
   ]
  },
  {
   "cell_type": "code",
   "execution_count": null,
   "id": "9a9667cb-b1b5-4d11-9384-8c1a355eb06d",
   "metadata": {},
   "outputs": [],
   "source": []
  },
  {
   "cell_type": "code",
   "execution_count": null,
   "id": "f40e0eb1-1fda-4462-9941-34730c79d8b1",
   "metadata": {},
   "outputs": [],
   "source": []
  },
  {
   "cell_type": "code",
   "execution_count": null,
   "id": "4c5c2b56-028c-4b2c-b36d-471c5afb1c69",
   "metadata": {},
   "outputs": [],
   "source": []
  },
  {
   "cell_type": "code",
   "execution_count": null,
   "id": "a7a7337f-394b-4188-a292-7f906f6e2dab",
   "metadata": {},
   "outputs": [],
   "source": []
  },
  {
   "cell_type": "code",
   "execution_count": null,
   "id": "1a5d4075-b4ec-488f-a304-e4b812654465",
   "metadata": {},
   "outputs": [],
   "source": []
  },
  {
   "cell_type": "code",
   "execution_count": null,
   "id": "341721ae-85cd-4b4a-8d01-011016151c9b",
   "metadata": {},
   "outputs": [],
   "source": []
  },
  {
   "cell_type": "code",
   "execution_count": null,
   "id": "9f810871-b28c-4d7c-9ef1-48602fa77779",
   "metadata": {},
   "outputs": [],
   "source": []
  },
  {
   "cell_type": "code",
   "execution_count": null,
   "id": "e4f722a7-02c0-405c-bff1-c41cc7b852f1",
   "metadata": {},
   "outputs": [],
   "source": []
  },
  {
   "cell_type": "code",
   "execution_count": null,
   "id": "89713d20-acb7-47ae-8493-3cfaf459fcca",
   "metadata": {},
   "outputs": [],
   "source": []
  },
  {
   "cell_type": "code",
   "execution_count": null,
   "id": "6b36a768-a890-440f-880d-bcd296bb30af",
   "metadata": {},
   "outputs": [],
   "source": []
  }
 ],
 "metadata": {
  "kernelspec": {
   "display_name": "Python 3 (ipykernel)",
   "language": "python",
   "name": "python3"
  },
  "language_info": {
   "codemirror_mode": {
    "name": "ipython",
    "version": 3
   },
   "file_extension": ".py",
   "mimetype": "text/x-python",
   "name": "python",
   "nbconvert_exporter": "python",
   "pygments_lexer": "ipython3",
   "version": "3.8.10"
  }
 },
 "nbformat": 4,
 "nbformat_minor": 5
}
